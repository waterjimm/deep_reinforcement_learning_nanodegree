{
 "cells": [
  {
   "cell_type": "markdown",
   "metadata": {},
   "source": [
    "# Collaboration and Competition\n",
    "\n",
    "---\n",
    "\n",
    "You are welcome to use this coding environment to train your agent for the project.  Follow the instructions below to get started!\n",
    "\n",
    "### 1. Start the Environment\n",
    "\n",
    "Run the next code cell to install a few packages.  This line will take a few minutes to run!"
   ]
  },
  {
   "cell_type": "code",
   "execution_count": 1,
   "metadata": {},
   "outputs": [
    {
     "name": "stdout",
     "output_type": "stream",
     "text": [
      "\u001b[31mtensorflow 1.7.1 has requirement numpy>=1.13.3, but you'll have numpy 1.12.1 which is incompatible.\u001b[0m\r\n",
      "\u001b[31mipython 6.5.0 has requirement prompt-toolkit<2.0.0,>=1.0.15, but you'll have prompt-toolkit 2.0.10 which is incompatible.\u001b[0m\r\n"
     ]
    }
   ],
   "source": [
    "!pip -q install ./python"
   ]
  },
  {
   "cell_type": "markdown",
   "metadata": {},
   "source": [
    "The environment is already saved in the Workspace and can be accessed at the file path provided below. "
   ]
  },
  {
   "cell_type": "code",
   "execution_count": 2,
   "metadata": {},
   "outputs": [
    {
     "name": "stderr",
     "output_type": "stream",
     "text": [
      "INFO:unityagents:\n",
      "'Academy' started successfully!\n",
      "Unity Academy name: Academy\n",
      "        Number of Brains: 1\n",
      "        Number of External Brains : 1\n",
      "        Lesson number : 0\n",
      "        Reset Parameters :\n",
      "\t\t\n",
      "Unity brain name: TennisBrain\n",
      "        Number of Visual Observations (per agent): 0\n",
      "        Vector Observation space type: continuous\n",
      "        Vector Observation space size (per agent): 8\n",
      "        Number of stacked Vector Observation: 3\n",
      "        Vector Action space type: continuous\n",
      "        Vector Action space size (per agent): 2\n",
      "        Vector Action descriptions: , \n"
     ]
    }
   ],
   "source": [
    "import importlib\n",
    "import unityagents\n",
    "importlib.reload(unityagents)\n",
    "\n",
    "from unityagents import UnityEnvironment\n",
    "import numpy as np\n",
    "\n",
    "env = UnityEnvironment(file_name=\"/data/Tennis_Linux_NoVis/Tennis\")"
   ]
  },
  {
   "cell_type": "markdown",
   "metadata": {},
   "source": [
    "Environments contain **_brains_** which are responsible for deciding the actions of their associated agents. Here we check for the first brain available, and set it as the default brain we will be controlling from Python."
   ]
  },
  {
   "cell_type": "code",
   "execution_count": 3,
   "metadata": {},
   "outputs": [],
   "source": [
    "# get the default brain\n",
    "brain_name = env.brain_names[0]\n",
    "brain = env.brains[brain_name]"
   ]
  },
  {
   "cell_type": "markdown",
   "metadata": {},
   "source": [
    "### 2. Examine the State and Action Spaces\n",
    "\n",
    "Run the code cell below to print some information about the environment."
   ]
  },
  {
   "cell_type": "code",
   "execution_count": 4,
   "metadata": {},
   "outputs": [
    {
     "name": "stdout",
     "output_type": "stream",
     "text": [
      "Number of agents: 2\n",
      "Size of each action: 2\n",
      "There are 2 agents. Each observes a state with length: 24\n",
      "The state for the first agent looks like: [ 0.          0.          0.          0.          0.          0.          0.\n",
      "  0.          0.          0.          0.          0.          0.          0.\n",
      "  0.          0.         -6.65278625 -1.5        -0.          0.\n",
      "  6.83172083  6.         -0.          0.        ]\n"
     ]
    }
   ],
   "source": [
    "# reset the environment\n",
    "env_info = env.reset(train_mode=True)[brain_name]\n",
    "\n",
    "# number of agents \n",
    "num_agents = len(env_info.agents)\n",
    "print('Number of agents:', num_agents)\n",
    "\n",
    "# size of each action\n",
    "action_size = brain.vector_action_space_size\n",
    "print('Size of each action:', action_size)\n",
    "\n",
    "# examine the state space \n",
    "states = env_info.vector_observations\n",
    "state_size = states.shape[1]\n",
    "print('There are {} agents. Each observes a state with length: {}'.format(states.shape[0], state_size))\n",
    "print('The state for the first agent looks like:', states[0])"
   ]
  },
  {
   "cell_type": "markdown",
   "metadata": {},
   "source": [
    "### 3. Take Random Actions in the Environment\n",
    "\n",
    "In the next code cell, you will learn how to use the Python API to control the agent and receive feedback from the environment.\n",
    "\n",
    "Note that **in this coding environment, you will not be able to watch the agents while they are training**, and you should set `train_mode=True` to restart the environment."
   ]
  },
  {
   "cell_type": "code",
   "execution_count": 5,
   "metadata": {},
   "outputs": [
    {
     "name": "stdout",
     "output_type": "stream",
     "text": [
      "Total score (averaged over agents) this episode: -0.004999999888241291\n",
      "Total score (averaged over agents) this episode: -0.004999999888241291\n",
      "Total score (averaged over agents) this episode: -0.004999999888241291\n",
      "Total score (averaged over agents) this episode: -0.004999999888241291\n",
      "Total score (averaged over agents) this episode: 0.04500000085681677\n"
     ]
    }
   ],
   "source": [
    "for i in range(5):                                         # play game for 5 episodes\n",
    "    env_info = env.reset(train_mode=False)[brain_name]     # reset the environment    \n",
    "    states = env_info.vector_observations                  # get the current state (for each agent)\n",
    "    scores = np.zeros(num_agents)                          # initialize the score (for each agent)\n",
    "    while True:\n",
    "        actions = np.random.randn(num_agents, action_size) # select an action (for each agent)\n",
    "        actions = np.clip(actions, -1, 1)                  # all actions between -1 and 1\n",
    "        env_info = env.step(actions)[brain_name]           # send all actions to tne environment\n",
    "        next_states = env_info.vector_observations         # get next state (for each agent)\n",
    "        rewards = env_info.rewards                         # get reward (for each agent)\n",
    "        dones = env_info.local_done                        # see if episode finished\n",
    "        scores += env_info.rewards                         # update the score (for each agent)\n",
    "        states = next_states                               # roll over states to next time step\n",
    "        if np.any(dones):                                  # exit loop if episode finished\n",
    "            break\n",
    "    print('Total score (averaged over agents) this episode: {}'.format(np.mean(scores)))"
   ]
  },
  {
   "cell_type": "markdown",
   "metadata": {},
   "source": [
    "When finished, you can close the environment."
   ]
  },
  {
   "cell_type": "code",
   "execution_count": null,
   "metadata": {},
   "outputs": [],
   "source": [
    "#env.close()"
   ]
  },
  {
   "cell_type": "markdown",
   "metadata": {},
   "source": [
    "### 4. It's Your Turn!\n",
    "\n",
    "Now it's your turn to train your own agent to solve the environment!  A few **important notes**:\n",
    "- When training the environment, set `train_mode=True`, so that the line for resetting the environment looks like the following:\n",
    "```python\n",
    "env_info = env.reset(train_mode=True)[brain_name]\n",
    "```\n",
    "- To structure your work, you're welcome to work directly in this Jupyter notebook, or you might like to start over with a new file!  You can see the list of files in the workspace by clicking on **_Jupyter_** in the top left corner of the notebook.\n",
    "- In this coding environment, you will not be able to watch the agents while they are training.  However, **_after training the agents_**, you can download the saved model weights to watch the agents on your own machine! "
   ]
  },
  {
   "cell_type": "code",
   "execution_count": 6,
   "metadata": {},
   "outputs": [],
   "source": [
    "#import importlib\n",
    "import ddpg\n",
    "importlib.reload(ddpg)\n",
    "\n",
    "from ddpg import Agent\n",
    "import torch\n",
    "from collections import deque\n",
    "import matplotlib.pyplot as plt"
   ]
  },
  {
   "cell_type": "code",
   "execution_count": 7,
   "metadata": {
    "scrolled": true
   },
   "outputs": [
    {
     "name": "stdout",
     "output_type": "stream",
     "text": [
      "Episode 100\tAverage Score: 0.00\tScore: 0.000\n",
      "Episode 200\tAverage Score: 0.00\tScore: 0.190\n",
      "Episode 300\tAverage Score: 0.00\tScore: 0.000\n",
      "Episode 400\tAverage Score: 0.00\tScore: 0.000\n",
      "Episode 500\tAverage Score: 0.01\tScore: 0.000\n",
      "Episode 600\tAverage Score: 0.02\tScore: 0.100\n",
      "Episode 700\tAverage Score: 0.05\tScore: 0.100\n",
      "Episode 800\tAverage Score: 0.07\tScore: 0.000\n",
      "Episode 900\tAverage Score: 0.09\tScore: 0.100\n",
      "Episode 1000\tAverage Score: 0.09\tScore: 0.090\n",
      "Episode 1100\tAverage Score: 0.09\tScore: 0.100\n",
      "Episode 1200\tAverage Score: 0.10\tScore: 0.000\n",
      "Episode 1300\tAverage Score: 0.11\tScore: 0.100\n",
      "Episode 1400\tAverage Score: 0.08\tScore: 0.100\n",
      "Episode 1500\tAverage Score: 0.07\tScore: 0.100\n",
      "Episode 1600\tAverage Score: 0.11\tScore: 0.100\n",
      "Episode 1700\tAverage Score: 0.12\tScore: 0.100\n",
      "Episode 1800\tAverage Score: 0.12\tScore: 0.100\n",
      "Episode 1900\tAverage Score: 0.12\tScore: 0.100\n",
      "Episode 2000\tAverage Score: 0.13\tScore: 0.200\n",
      "Episode 2100\tAverage Score: 0.17\tScore: 0.090\n",
      "Episode 2200\tAverage Score: 0.22\tScore: 0.100\n",
      "Episode 2300\tAverage Score: 0.17\tScore: 0.100\n",
      "Episode 2400\tAverage Score: 0.16\tScore: 0.090\n",
      "Episode 2500\tAverage Score: 0.18\tScore: 0.100\n",
      "Episode 2600\tAverage Score: 0.23\tScore: 0.700\n",
      "Episode 2700\tAverage Score: 0.37\tScore: 0.090\n",
      "Episode 2784\tAverage Score: 0.51\tScore: 2.600\n",
      "Episode 2785\tAverage Score: 0.51\tScore: 2.700\n",
      "Episode 2786\tAverage Score: 0.53\tScore: 2.600\n",
      "Episode 2787\tAverage Score: 0.55\tScore: 2.200\n",
      "Episode 2788\tAverage Score: 0.55\tScore: 0.100\n",
      "Episode 2789\tAverage Score: 0.54\tScore: 0.000\n",
      "Episode 2790\tAverage Score: 0.54\tScore: 0.100\n",
      "Episode 2791\tAverage Score: 0.54\tScore: 0.100\n",
      "Episode 2792\tAverage Score: 0.56\tScore: 2.600\n",
      "Episode 2793\tAverage Score: 0.57\tScore: 0.800\n",
      "Episode 2794\tAverage Score: 0.57\tScore: 0.100\n",
      "Episode 2795\tAverage Score: 0.56\tScore: 0.100\n",
      "Episode 2796\tAverage Score: 0.56\tScore: 0.200\n",
      "Episode 2797\tAverage Score: 0.55\tScore: 0.300\n",
      "Episode 2798\tAverage Score: 0.55\tScore: 0.090\n",
      "Episode 2799\tAverage Score: 0.55\tScore: 0.090\n",
      "Episode 2800\tAverage Score: 0.55\tScore: 0.100\n",
      "Episode 2801\tAverage Score: 0.55\tScore: 0.100\n",
      "Episode 2802\tAverage Score: 0.55\tScore: 1.000\n",
      "Episode 2803\tAverage Score: 0.55\tScore: 0.000\n"
     ]
    },
    {
     "data": {
      "image/png": "[encoded data removed]",
      "text/plain": [
       "<matplotlib.figure.Figure at 0x7fc6048b6080>"
      ]
     },
     "metadata": {
      "needs_background": "light"
     },
     "output_type": "display_data"
    }
   ],
   "source": [
    "####share action & state\n",
    "def ddpg_train(num_agents, n_episodes=10000, print_every=100):\n",
    "    scores_deque = deque(maxlen=print_every)\n",
    "    scores = []\n",
    "    agent = Agent(state_size=state_size*num_agents, action_size=action_size*num_agents, random_seed=2)\n",
    "  \n",
    "    cnt_good_score = 0\n",
    "    for i_episode in range(1, n_episodes+1):           \n",
    "        env_info = env.reset(train_mode=True)[brain_name]      # reset the environment    \n",
    "        states = env_info.vector_observations                  # get the current state (for each agent)\n",
    "        states = states.reshape(1,-1)\n",
    "        score = np.zeros(num_agents) \n",
    "        agent.reset()\n",
    "\n",
    "        #print(i_episode, max_t)\n",
    "        while True:\n",
    "            actions = agent.act(states)  \n",
    "            actions_env = actions.reshape(2,-1)\n",
    "            env_info = env.step(actions_env)[brain_name]           # send all actions to tne environment\n",
    "            next_states = env_info.vector_observations         # get next state (for each agent)\n",
    "            next_states = next_states.reshape(1,-1)\n",
    "            rewards = env_info.rewards                         # get reward (for each agent)\n",
    "            dones = env_info.local_done                        # see if episode finished\n",
    "            #print(states.shape, action1.shape, rewards.shape, next_states.shape, dones.shape)\n",
    "            agent.step(states, actions, np.max(rewards), next_states, np.any(dones))\n",
    "\n",
    "            score += rewards                         # update the score (for each agent)            \n",
    "            states = next_states   \n",
    "\n",
    "            if np.any(dones):\n",
    "                #print('\\tSteps: ', t, score)\n",
    "                break \n",
    "\n",
    "        score = np.max(score) ##take the maximum of these 2 agents' scores\n",
    "        scores_deque.append(score)\n",
    "        scores.append(score)\n",
    "\n",
    "        #torch.save(agent.actor_local.state_dict(), 'checkpoint_actor.pth')\n",
    "        #torch.save(agent.critic_local.state_dict(), 'checkpoint_critic.pth')\n",
    "        if (i_episode % print_every == 0)|(np.mean(scores_deque)> 0.5):\n",
    "            #save the weights every print_every\n",
    "             \n",
    "            torch.save(agent.actor_local.state_dict(), 'checkpoint_actor_share_info.pth')\n",
    "            torch.save(agent.critic_local.state_dict(), 'checkpoint_critic_share_info.pth')\n",
    "            print('\\rEpisode {}\\tAverage Score: {:.2f}\\tScore: {:.3f}'.format(i_episode, \n",
    "                                                                  np.mean(scores_deque), \n",
    "                                                                  score))\n",
    "        if np.mean(scores_deque)>0.5: ###count score getting target\n",
    "            cnt_good_score = cnt_good_score +1\n",
    "            if cnt_good_score >= 20: ###if more than 20 times scores very good, terminate\n",
    "                break\n",
    "                \n",
    "    return scores\n",
    "\n",
    "scores = ddpg_train(num_agents)\n",
    "  \n",
    "fig = plt.figure()\n",
    "ax = fig.add_subplot(111)\n",
    "plt.plot(np.arange(1, len(scores)+1), scores)\n",
    "plt.ylabel('Score')\n",
    "plt.xlabel('Episode #')\n",
    "plt.show()\n",
    "         "
   ]
  },
  {
   "cell_type": "code",
   "execution_count": null,
   "metadata": {},
   "outputs": [],
   "source": []
  }
 ],
 "metadata": {
  "kernelspec": {
   "display_name": "Python 3",
   "language": "python",
   "name": "python3"
  },
  "language_info": {
   "codemirror_mode": {
    "name": "ipython",
    "version": 3
   },
   "file_extension": ".py",
   "mimetype": "text/x-python",
   "name": "python",
   "nbconvert_exporter": "python",
   "pygments_lexer": "ipython3",
   "version": "3.6.3"
  }
 },
 "nbformat": 4,
 "nbformat_minor": 2
}
