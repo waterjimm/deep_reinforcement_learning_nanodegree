{
 "cells": [
  {
   "cell_type": "markdown",
   "metadata": {},
   "source": [
    "# Continuous Control\n",
    "\n",
    "---\n",
    "\n",
    "You are welcome to use this coding environment to train your agent for the project.  Follow the instructions below to get started!\n",
    "\n",
    "### 1. Start the Environment\n",
    "\n",
    "Run the next code cell to install a few packages.  This line will take a few minutes to run!"
   ]
  },
  {
   "cell_type": "code",
   "execution_count": 1,
   "metadata": {},
   "outputs": [
    {
     "name": "stdout",
     "output_type": "stream",
     "text": [
      "\u001b[31mtensorflow 1.7.1 has requirement numpy>=1.13.3, but you'll have numpy 1.12.1 which is incompatible.\u001b[0m\r\n",
      "\u001b[31mipython 6.5.0 has requirement prompt-toolkit<2.0.0,>=1.0.15, but you'll have prompt-toolkit 2.0.10 which is incompatible.\u001b[0m\r\n"
     ]
    }
   ],
   "source": [
    "!pip -q install ./python"
   ]
  },
  {
   "cell_type": "markdown",
   "metadata": {},
   "source": [
    "The environments corresponding to both versions of the environment are already saved in the Workspace and can be accessed at the file paths provided below.  \n",
    "\n",
    "Please select one of the two options below for loading the environment."
   ]
  },
  {
   "cell_type": "code",
   "execution_count": 2,
   "metadata": {},
   "outputs": [
    {
     "name": "stderr",
     "output_type": "stream",
     "text": [
      "INFO:unityagents:\n",
      "'Academy' started successfully!\n",
      "Unity Academy name: Academy\n",
      "        Number of Brains: 1\n",
      "        Number of External Brains : 1\n",
      "        Lesson number : 0\n",
      "        Reset Parameters :\n",
      "\t\tgoal_speed -> 1.0\n",
      "\t\tgoal_size -> 5.0\n",
      "Unity brain name: ReacherBrain\n",
      "        Number of Visual Observations (per agent): 0\n",
      "        Vector Observation space type: continuous\n",
      "        Vector Observation space size (per agent): 33\n",
      "        Number of stacked Vector Observation: 1\n",
      "        Vector Action space type: continuous\n",
      "        Vector Action space size (per agent): 4\n",
      "        Vector Action descriptions: , , , \n"
     ]
    }
   ],
   "source": [
    "import importlib\n",
    "import unityagents\n",
    "importlib.reload(unityagents)\n",
    "from unityagents import UnityEnvironment\n",
    "import numpy as np\n",
    "\n",
    "# select this option to load version 1 (with a single agent) of the environment\n",
    "#env = UnityEnvironment(file_name='/data/Reacher_One_Linux_NoVis/Reacher_One_Linux_NoVis.x86_64')\n",
    "\n",
    "# select this option to load version 2 (with 20 agents) of the environment\n",
    "env = UnityEnvironment(file_name='/data/Reacher_Linux_NoVis/Reacher.x86_64')"
   ]
  },
  {
   "cell_type": "markdown",
   "metadata": {},
   "source": [
    "Environments contain **_brains_** which are responsible for deciding the actions of their associated agents. Here we check for the first brain available, and set it as the default brain we will be controlling from Python."
   ]
  },
  {
   "cell_type": "code",
   "execution_count": 3,
   "metadata": {},
   "outputs": [],
   "source": [
    "# get the default brain\n",
    "brain_name = env.brain_names[0]\n",
    "brain = env.brains[brain_name]"
   ]
  },
  {
   "cell_type": "markdown",
   "metadata": {},
   "source": [
    "### 2. Examine the State and Action Spaces\n",
    "\n",
    "Run the code cell below to print some information about the environment."
   ]
  },
  {
   "cell_type": "code",
   "execution_count": 4,
   "metadata": {},
   "outputs": [
    {
     "name": "stdout",
     "output_type": "stream",
     "text": [
      "Number of agents: 20\n",
      "Size of each action: 4\n",
      "There are 20 agents. Each observes a state with length: 33\n",
      "The state for the first agent looks like: [  0.00000000e+00  -4.00000000e+00   0.00000000e+00   1.00000000e+00\n",
      "  -0.00000000e+00  -0.00000000e+00  -4.37113883e-08   0.00000000e+00\n",
      "   0.00000000e+00   0.00000000e+00   0.00000000e+00   0.00000000e+00\n",
      "   0.00000000e+00   0.00000000e+00  -1.00000000e+01   0.00000000e+00\n",
      "   1.00000000e+00  -0.00000000e+00  -0.00000000e+00  -4.37113883e-08\n",
      "   0.00000000e+00   0.00000000e+00   0.00000000e+00   0.00000000e+00\n",
      "   0.00000000e+00   0.00000000e+00   5.75471878e+00  -1.00000000e+00\n",
      "   5.55726624e+00   0.00000000e+00   1.00000000e+00   0.00000000e+00\n",
      "  -1.68164849e-01]\n"
     ]
    }
   ],
   "source": [
    "# reset the environment\n",
    "env_info = env.reset(train_mode=True)[brain_name]\n",
    "\n",
    "# number of agents\n",
    "num_agents = len(env_info.agents)\n",
    "print('Number of agents:', num_agents)\n",
    "\n",
    "# size of each action\n",
    "action_size = brain.vector_action_space_size\n",
    "print('Size of each action:', action_size)\n",
    "\n",
    "# examine the state space \n",
    "states = env_info.vector_observations\n",
    "state_size = states.shape[1]\n",
    "print('There are {} agents. Each observes a state with length: {}'.format(states.shape[0], state_size))\n",
    "print('The state for the first agent looks like:', states[0])"
   ]
  },
  {
   "cell_type": "code",
   "execution_count": 8,
   "metadata": {},
   "outputs": [],
   "source": [
    "#states as array (num_agents, state_size), action is also an array of size (num_agents, action_size)"
   ]
  },
  {
   "cell_type": "markdown",
   "metadata": {},
   "source": [
    "### 3. Take Random Actions in the Environment\n",
    "\n",
    "In the next code cell, you will learn how to use the Python API to control the agent and receive feedback from the environment.\n",
    "\n",
    "Note that **in this coding environment, you will not be able to watch the agents while they are training**, and you should set `train_mode=True` to restart the environment."
   ]
  },
  {
   "cell_type": "code",
   "execution_count": 5,
   "metadata": {},
   "outputs": [
    {
     "name": "stdout",
     "output_type": "stream",
     "text": [
      "Total score (averaged over agents) this episode: 0.1064999976195395\n"
     ]
    }
   ],
   "source": [
    "env_info = env.reset(train_mode=True)[brain_name]      # reset the environment    \n",
    "states = env_info.vector_observations                  # get the current state (for each agent)\n",
    "scores = np.zeros(num_agents)                          # initialize the score (for each agent)\n",
    "while True:\n",
    "    actions = np.random.randn(num_agents, action_size) # select an action (for each agent)\n",
    "    actions = np.clip(actions, -1, 1)                  # all actions between -1 and 1\n",
    "    env_info = env.step(actions)[brain_name]           # send all actions to tne environment\n",
    "    next_states = env_info.vector_observations         # get next state (for each agent)\n",
    "    rewards = env_info.rewards                         # get reward (for each agent)\n",
    "    dones = env_info.local_done                        # see if episode finished\n",
    "    scores += env_info.rewards                         # update the score (for each agent)\n",
    "    states = next_states                               # roll over states to next time step\n",
    "    if np.any(dones):                                  # exit loop if episode finished\n",
    "        break\n",
    "print('Total score (averaged over agents) this episode: {}'.format(np.mean(scores)))"
   ]
  },
  {
   "cell_type": "markdown",
   "metadata": {},
   "source": [
    "When finished, you can close the environment."
   ]
  },
  {
   "cell_type": "code",
   "execution_count": 6,
   "metadata": {},
   "outputs": [],
   "source": [
    "#env.close()"
   ]
  },
  {
   "cell_type": "markdown",
   "metadata": {},
   "source": [
    "### 4. It's Your Turn!\n",
    "\n",
    "Now it's your turn to train your own agent to solve the environment!  A few **important notes**:\n",
    "- When training the environment, set `train_mode=True`, so that the line for resetting the environment looks like the following:\n",
    "```python\n",
    "env_info = env.reset(train_mode=True)[brain_name]\n",
    "```\n",
    "- To structure your work, you're welcome to work directly in this Jupyter notebook, or you might like to start over with a new file!  You can see the list of files in the workspace by clicking on **_Jupyter_** in the top left corner of the notebook.\n",
    "- In this coding environment, you will not be able to watch the agents while they are training.  However, **_after training the agents_**, you can download the saved model weights to watch the agents on your own machine! "
   ]
  },
  {
   "cell_type": "code",
   "execution_count": 6,
   "metadata": {},
   "outputs": [],
   "source": [
    "import importlib\n",
    "import d4pg\n",
    "importlib.reload(d4pg)\n",
    "\n",
    "from d4pg import Agent\n",
    "import torch\n",
    "from collections import deque\n",
    "import matplotlib.pyplot as plt "
   ]
  },
  {
   "cell_type": "code",
   "execution_count": 7,
   "metadata": {
    "scrolled": false
   },
   "outputs": [
    {
     "name": "stdout",
     "output_type": "stream",
     "text": [
      "Episode 1\tAverage Score: 1.03\tScore: 1.032\n",
      "Episode 2\tAverage Score: 0.95\tScore: 0.860\n",
      "Episode 3\tAverage Score: 0.87\tScore: 0.727\n",
      "Episode 4\tAverage Score: 0.86\tScore: 0.831\n",
      "Episode 5\tAverage Score: 0.88\tScore: 0.929\n",
      "Episode 6\tAverage Score: 0.90\tScore: 0.998\n",
      "Episode 7\tAverage Score: 0.88\tScore: 0.791\n",
      "Episode 8\tAverage Score: 0.92\tScore: 1.160\n",
      "Episode 9\tAverage Score: 0.92\tScore: 0.917\n",
      "Episode 10\tAverage Score: 0.97\tScore: 1.421\n",
      "Episode 11\tAverage Score: 1.03\tScore: 1.623\n",
      "Episode 12\tAverage Score: 1.10\tScore: 1.569\n",
      "Episode 13\tAverage Score: 1.17\tScore: 1.412\n",
      "Episode 14\tAverage Score: 1.30\tScore: 2.224\n",
      "Episode 15\tAverage Score: 1.48\tScore: 2.696\n",
      "Episode 16\tAverage Score: 1.70\tScore: 3.179\n",
      "Episode 17\tAverage Score: 1.99\tScore: 3.681\n",
      "Episode 18\tAverage Score: 2.31\tScore: 4.420\n",
      "Episode 19\tAverage Score: 2.65\tScore: 4.319\n",
      "Episode 20\tAverage Score: 3.03\tScore: 5.214\n",
      "Episode 21\tAverage Score: 3.49\tScore: 6.174\n",
      "Episode 22\tAverage Score: 4.09\tScore: 7.599\n",
      "Episode 23\tAverage Score: 4.72\tScore: 7.666\n",
      "Episode 24\tAverage Score: 5.36\tScore: 8.625\n",
      "Episode 25\tAverage Score: 6.11\tScore: 10.213\n",
      "Episode 26\tAverage Score: 6.94\tScore: 11.520\n",
      "Episode 27\tAverage Score: 7.73\tScore: 11.513\n",
      "Episode 28\tAverage Score: 8.51\tScore: 12.240\n",
      "Episode 29\tAverage Score: 9.18\tScore: 10.988\n",
      "Episode 30\tAverage Score: 10.03\tScore: 13.759\n",
      "Episode 31\tAverage Score: 11.00\tScore: 15.893\n",
      "Episode 32\tAverage Score: 11.96\tScore: 17.188\n",
      "Episode 33\tAverage Score: 12.87\tScore: 16.799\n",
      "Episode 34\tAverage Score: 13.78\tScore: 17.643\n",
      "Episode 35\tAverage Score: 14.43\tScore: 16.732\n",
      "Episode 36\tAverage Score: 15.17\tScore: 18.963\n",
      "Episode 37\tAverage Score: 16.24\tScore: 22.171\n",
      "Episode 38\tAverage Score: 17.22\tScore: 22.026\n",
      "Episode 39\tAverage Score: 18.48\tScore: 23.662\n",
      "Episode 40\tAverage Score: 19.48\tScore: 23.750\n",
      "Episode 41\tAverage Score: 20.44\tScore: 25.448\n",
      "Episode 42\tAverage Score: 21.60\tScore: 28.768\n",
      "Episode 43\tAverage Score: 22.70\tScore: 27.856\n",
      "Episode 44\tAverage Score: 23.81\tScore: 28.684\n",
      "Episode 45\tAverage Score: 25.12\tScore: 29.838\n",
      "Episode 46\tAverage Score: 26.15\tScore: 29.331\n",
      "Episode 47\tAverage Score: 26.92\tScore: 29.865\n",
      "Episode 48\tAverage Score: 27.90\tScore: 31.763\n",
      "Episode 49\tAverage Score: 28.79\tScore: 32.608\n",
      "Episode 50\tAverage Score: 29.73\tScore: 33.144\n",
      "Episode 51\tAverage Score: 30.55\tScore: 33.668\n",
      "Episode 52\tAverage Score: 31.22\tScore: 35.434\n",
      "Episode 53\tAverage Score: 32.02\tScore: 35.902\n",
      "Episode 54\tAverage Score: 32.71\tScore: 35.565\n",
      "Episode 55\tAverage Score: 33.40\tScore: 36.670\n",
      "Episode 56\tAverage Score: 34.20\tScore: 37.354\n",
      "Episode 57\tAverage Score: 34.91\tScore: 36.968\n",
      "Episode 58\tAverage Score: 35.43\tScore: 36.961\n",
      "Episode 59\tAverage Score: 35.88\tScore: 37.134\n",
      "Episode 60\tAverage Score: 36.33\tScore: 37.670\n",
      "Episode 61\tAverage Score: 36.72\tScore: 37.564\n",
      "Episode 62\tAverage Score: 36.93\tScore: 37.460\n",
      "Episode 63\tAverage Score: 37.06\tScore: 37.232\n",
      "Episode 64\tAverage Score: 37.23\tScore: 37.308\n",
      "Episode 65\tAverage Score: 37.27\tScore: 37.035\n",
      "Episode 66\tAverage Score: 37.29\tScore: 37.551\n",
      "Episode 67\tAverage Score: 37.28\tScore: 36.839\n",
      "Episode 68\tAverage Score: 37.36\tScore: 37.789\n",
      "Episode 69\tAverage Score: 37.43\tScore: 37.818\n",
      "Episode 70\tAverage Score: 37.43\tScore: 37.733\n"
     ]
    },
    {
     "data": {
      "image/png": "[encoded data removed]",
      "text/plain": [
       "<matplotlib.figure.Figure at 0x7fe0f8c335c0>"
      ]
     },
     "metadata": {
      "needs_background": "light"
     },
     "output_type": "display_data"
    }
   ],
   "source": [
    "def ddpg_train(num_agents, n_episodes=1000, max_t=1000, print_every=10):\n",
    "    scores_deque = deque(maxlen=print_every)\n",
    "    scores = []\n",
    "    agent = Agent(num_agents=num_agents, state_size=state_size, action_size=action_size, random_seed=2)\n",
    "    cnt_good_score = 0\n",
    "    for i_episode in range(1, n_episodes+1):           \n",
    "        env_info = env.reset(train_mode=True)[brain_name]      # reset the environment    \n",
    "        states = env_info.vector_observations                  # get the current state (for each agent)\n",
    "        score = np.zeros(num_agents) \n",
    "        agent.reset()\n",
    "        #print(i_episode, max_t)\n",
    "        for t in range(max_t):\n",
    "            actions = agent.act(states)                        \n",
    "            env_info = env.step(actions)[brain_name]           # send all actions to tne environment\n",
    "            next_states = env_info.vector_observations         # get next state (for each agent)\n",
    "            rewards = env_info.rewards                         # get reward (for each agent)\n",
    "            dones = env_info.local_done                        # see if episode finished\n",
    "            \n",
    "            agent.step(states, actions, rewards, next_states, dones)\n",
    "            score += env_info.rewards                         # update the score (for each agent)            \n",
    "            states = next_states   \n",
    "            \n",
    "            if np.any(dones):\n",
    "                print('\\tSteps: ', t)\n",
    "                break \n",
    "                \n",
    "        score = np.mean(score)\n",
    "        scores_deque.append(score)\n",
    "        scores.append(score)\n",
    "        print('\\rEpisode {}\\tAverage Score: {:.2f}\\tScore: {:.3f}'.format(i_episode, \n",
    "                                                                          np.mean(scores_deque), \n",
    "                                                                          score))\n",
    "        #torch.save(agent.actor_local.state_dict(), 'checkpoint_actor.pth')\n",
    "        #torch.save(agent.critic_local.state_dict(), 'checkpoint_critic.pth')\n",
    "        if (i_episode % print_every == 0)|(np.mean(scores_deque)>30):\n",
    "            #save the weights every print_every\n",
    "            torch.save(agent.actor_local.state_dict(), 'checkpoint_actor.pth')\n",
    "            torch.save(agent.critic_local.state_dict(), 'checkpoint_critic.pth')\n",
    "        \n",
    "        if np.mean(scores_deque)>30: ###count score getting target\n",
    "            cnt_good_score = cnt_good_score +1\n",
    "            if cnt_good_score >= 20: ###if more than 10 times scores very good, terminate\n",
    "                break\n",
    "                \n",
    "    return scores\n",
    "\n",
    "scores = ddpg_train(num_agents)\n",
    "  \n",
    "fig = plt.figure()\n",
    "ax = fig.add_subplot(111)\n",
    "plt.plot(np.arange(1, len(scores)+1), scores)\n",
    "plt.ylabel('Score')\n",
    "plt.xlabel('Episode #')\n",
    "plt.show()"
   ]
  },
  {
   "cell_type": "code",
   "execution_count": null,
   "metadata": {},
   "outputs": [],
   "source": []
  }
 ],
 "metadata": {
  "kernelspec": {
   "display_name": "Python 3",
   "language": "python",
   "name": "python3"
  },
  "language_info": {
   "codemirror_mode": {
    "name": "ipython",
    "version": 3
   },
   "file_extension": ".py",
   "mimetype": "text/x-python",
   "name": "python",
   "nbconvert_exporter": "python",
   "pygments_lexer": "ipython3",
   "version": "3.6.3"
  }
 },
 "nbformat": 4,
 "nbformat_minor": 2
}
